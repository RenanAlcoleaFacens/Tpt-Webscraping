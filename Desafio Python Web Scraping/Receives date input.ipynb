{
 "cells": [
  {
   "cell_type": "code",
   "execution_count": 27,
   "metadata": {},
   "outputs": [],
   "source": [
    "\n",
    "\n",
    "\n",
    "def validador_datas(dataBR1,dataBR2):\n",
    "    \n",
    "    '''print(int(dataBR1[0:2]))\n",
    "    if not((1<= int(dataBR1[0:2]) <=31) and (1<= int(dataBR2[0:2]) <=31)):\n",
    "        print(\"Data informada inválida.\")\n",
    "        return\n",
    "    else if not((1<=))'''\n",
    "    \n",
    "        \n",
    "    dataUS1 = dataBR1[3:6]+dataBR1[0:3]+dataBR1[6:]\n",
    "    dataUS2 = dataBR2[3:6]+dataBR2[0:3]+dataBR2[6:]\n",
    "    dataUS = [dataUS1,dataUS2]\n",
    "        \n",
    "        return dataUS\n",
    "        print(\"Data informada inválida.\")\n",
    "    return dataUS\n",
    "\n"
   ]
  },
  {
   "cell_type": "code",
   "execution_count": 30,
   "metadata": {},
   "outputs": [],
   "source": [
    "def validador_datas2(dataBR1):\n",
    "    \n",
    "    # faz o split e transforma em números\n",
    "    dia, mes, ano = (int, dataBR1.split('/'))\n",
    "\n",
    "    # mês ou ano inválido (só considera do ano 1 em diante), retorna False\n",
    "    if mes < 1 or mes > 12 or ano <= 0:\n",
    "        print(\"Data informada inválida.\")\n",
    "        return False\n",
    "\n",
    "    # verifica qual o último dia do mês\n",
    "    if mes in (1, 3, 5, 7, 8, 10, 12):\n",
    "        ultimo_dia = 31\n",
    "    elif mes == 2:\n",
    "        # verifica se é ano bissexto\n",
    "        if (ano % 4 == 0) and (ano % 100 != 0 or ano % 400 == 0):\n",
    "            ultimo_dia = 29\n",
    "        else:\n",
    "            ultimo_dia = 28\n",
    "    else:\n",
    "        ultimo_dia = 30\n",
    "\n",
    "    # verifica se o dia é válido\n",
    "    if dia < 1 or dia > ultimo_dia:\n",
    "        return False\n",
    "\n",
    "    return True"
   ]
  },
  {
   "cell_type": "code",
   "execution_count": 39,
   "metadata": {},
   "outputs": [],
   "source": [
    "def data_valida():\n",
    "    dataBR=input(\"Informe a data\")\n",
    "    #função de hkotsubo, retirada de stackoverflow.\n",
    "    #https://pt.stackoverflow.com/questions/377579/valida%C3%A7%C3%A3o-de-data-testes-com-python\n",
    "\n",
    "    try:\n",
    "        # faz o split e transforma em números\n",
    "        dia, mes, ano = map(int, dataBR.split('/'))\n",
    "\n",
    "        # mes ou ano inválido, retorna False\n",
    "        if mes < 1 or mes > 12 or ano <= 0:\n",
    "            return False\n",
    "\n",
    "        # verifica qual o último dia do mês\n",
    "        if mes in (1, 3, 5, 7, 8, 10, 12):\n",
    "            ultimo_dia = 31\n",
    "        elif mes == 2:\n",
    "            if (ano % 4 == 0) and (ano % 100 != 0 or ano % 400 == 0):\n",
    "                ultimo_dia = 29\n",
    "            else:\n",
    "                ultimo_dia = 28\n",
    "        else:\n",
    "            ultimo_dia = 30\n",
    "\n",
    "        # verifica se o dia é válido\n",
    "        if dia < 1 or dia > ultimo_dia:\n",
    "            return data_valida()\n",
    "\n",
    "\n",
    "        dataUS1 = dataBR[3:6]+dataBR[0:3]+dataBR[6:]\n",
    "\n",
    "        return dataUS1\n",
    "    except ValueError:\n",
    "        return False"
   ]
  },
  {
   "cell_type": "code",
   "execution_count": 41,
   "metadata": {},
   "outputs": [
    {
     "data": {
      "text/plain": [
       "False"
      ]
     },
     "execution_count": 41,
     "metadata": {},
     "output_type": "execute_result"
    }
   ],
   "source": [
    "#input_data1 = input(\"Informe a data de início(utilize o formado dd/mm/aaaa):\\n\")\n",
    "input_data1 = '04/05/2022'\n",
    "input_data2 = '01/40/2022'\n",
    "data_valida()\n",
    "\n"
   ]
  },
  {
   "cell_type": "code",
   "execution_count": null,
   "metadata": {},
   "outputs": [],
   "source": [
    "#Recebe do usuário a data de inicio da pesquisa\n",
    "#MELHORIA: deixar esta seção no formato dd/mm/yyyy E criar validação de dados\n",
    "\n",
    "#data_informada_inicio = input(\"Informe a data de início [mm/dd/yyyy]: \")\n",
    "data_informada_inicio = '04/01/2022'\n",
    "data_inicio.send_keys(data_informada_inicio)\n",
    "\n",
    "#Recebe do usuário a data de fim da pesquisa\n",
    "data_fim = navegador.find_element(By.ID, \"published-end-date\")\n",
    "#data_informada_fim = input(\"Informe a data de término [mm/dd/yyyy]: \")\n",
    "data_informada_fim = '05/01/2022'\n",
    "data_fim.send_keys(data_informada_fim)"
   ]
  }
 ],
 "metadata": {
  "interpreter": {
   "hash": "60db81670d3c382f0473d0504c6942832f09699c118224e7bf360057574f9b7f"
  },
  "kernelspec": {
   "display_name": "Python 3.9.7 ('base')",
   "language": "python",
   "name": "python3"
  },
  "language_info": {
   "codemirror_mode": {
    "name": "ipython",
    "version": 3
   },
   "file_extension": ".py",
   "mimetype": "text/x-python",
   "name": "python",
   "nbconvert_exporter": "python",
   "pygments_lexer": "ipython3",
   "version": "3.9.7"
  },
  "orig_nbformat": 4
 },
 "nbformat": 4,
 "nbformat_minor": 2
}
